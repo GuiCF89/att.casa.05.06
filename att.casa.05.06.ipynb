{
 "cells": [
  {
   "cell_type": "code",
   "execution_count": null,
   "metadata": {},
   "outputs": [],
   "source": [
    "def soma(n1 , n2):\n",
    "    return n1 + n2\n",
    "\n",
    "def subtrai(n1 , n2):\n",
    "    return n1 - n2\n",
    "\n",
    "def multiplica(n1 , n2):\n",
    "    return n1 * n2\n",
    "\n",
    "def divide(n1 , n2):\n",
    "    return n1 / n2\n",
    "\n",
    "\n",
    "while True:\n",
    "    print('+=======================+')\n",
    "    print('|  MENU DE OPERAÇÕES    |')\n",
    "    print('|  1. somar             |')\n",
    "    print('|  2. subtrair          |')\n",
    "    print('|  3. multiplicar       |')\n",
    "    print('|  4. dividir           |')\n",
    "    print('|  0. sair              |')\n",
    "    print('+=======================+')\n",
    "    \n",
    "    op = int(input())\n",
    "    if op ==0:\n",
    "        break\n",
    "n1 = int(input('primeiro numero:'))\n",
    "n2 = int(input('segundo numero:'))\n",
    "\n",
    "    if op==1: \n",
    "        print('o resultado da soma é:', soma(n1,n2))\n",
    "    elif op==2:\n",
    "        print('o resultado da subtracao é:', subtrai(n1,n2))\n",
    "    elif op==3:\n",
    "        print('o resultado da multiplicacao é:', multiplica(n1,n2))\n",
    "    elif op==4:\n",
    "        print('o resultado da divisao é:', divide(n1,n2))\n",
    "    else:\n",
    "        print('por favor, digite uma das opções.')\n",
    "\n"
   ]
  }
 ],
 "metadata": {
  "kernelspec": {
   "display_name": "Python 3",
   "language": "python",
   "name": "python3"
  },
  "language_info": {
   "name": "python",
   "version": "3.11.4"
  }
 },
 "nbformat": 4,
 "nbformat_minor": 2
}
